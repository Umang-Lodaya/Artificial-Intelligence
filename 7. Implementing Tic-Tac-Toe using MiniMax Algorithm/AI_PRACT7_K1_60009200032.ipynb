{
  "nbformat": 4,
  "nbformat_minor": 0,
  "metadata": {
    "colab": {
      "provenance": []
    },
    "kernelspec": {
      "name": "python3",
      "display_name": "Python 3"
    },
    "language_info": {
      "name": "python"
    }
  },
  "cells": [
    {
      "cell_type": "markdown",
      "source": [
        "# **NAME: UMANG KIRIT LODAYA**\n",
        "# **SAP ID: 6009200032**\n",
        "# **BATCH: K - K1**"
      ],
      "metadata": {
        "id": "iZuAHsNl4mIF"
      }
    },
    {
      "cell_type": "markdown",
      "source": [
        "## **IMPLEMENTING MINIMAX ALGORITHM FOR TIC-TAC-TOE**"
      ],
      "metadata": {
        "id": "Tr4zDdJqXeUt"
      }
    },
    {
      "cell_type": "code",
      "source": [
        "import time\n",
        "import random\n",
        "from math import inf"
      ],
      "metadata": {
        "id": "dA4Eh5-pcU6R"
      },
      "execution_count": 1,
      "outputs": []
    },
    {
      "cell_type": "markdown",
      "source": [
        "**MAKING CLASS FOR PLAYERS**"
      ],
      "metadata": {
        "id": "G2Z3g3u4jpTi"
      }
    },
    {
      "cell_type": "code",
      "source": [
        "class Player():\n",
        "    def __init__(self, letter):\n",
        "        self.letter = letter\n",
        "\n",
        "    def get_move(self, game):\n",
        "        pass"
      ],
      "metadata": {
        "id": "Eg81b6in6k42"
      },
      "execution_count": 2,
      "outputs": []
    },
    {
      "cell_type": "markdown",
      "source": [
        "**HUMAN PLAYER CLASS**"
      ],
      "metadata": {
        "id": "p3nOm5nF4A0w"
      }
    },
    {
      "cell_type": "code",
      "source": [
        "class HumanPlayer(Player):\n",
        "    def __init__(self, letter):\n",
        "        super().__init__(letter)\n",
        "\n",
        "    def get_move(self, game):\n",
        "        valid_square = False\n",
        "        val = None\n",
        "        while not valid_square:\n",
        "            square = input(self.letter + '\\'S TURN. INPUT MOVE (0-9): ')\n",
        "            try:\n",
        "                val = int(square)\n",
        "                if val not in game.available_moves():\n",
        "                    raise ValueError\n",
        "                valid_square = True\n",
        "            except ValueError:\n",
        "                print('INVALID SQUARE! TRY AGAIN')\n",
        "        return val"
      ],
      "metadata": {
        "id": "phGL7x8o6m_E"
      },
      "execution_count": 3,
      "outputs": []
    },
    {
      "cell_type": "markdown",
      "source": [
        "**AI PLAYER CLASS**"
      ],
      "metadata": {
        "id": "iLVwYJSr4DRt"
      }
    },
    {
      "cell_type": "code",
      "source": [
        "class SmartComputerPlayer(Player):\n",
        "    def __init__(self, letter):\n",
        "        super().__init__(letter)\n",
        "\n",
        "    def get_move(self, game):\n",
        "        if len(game.available_moves()) == 9:\n",
        "            square = random.choice(game.available_moves())\n",
        "        else:\n",
        "            square = self.minimax(game, self.letter)['position']\n",
        "        return square\n",
        "\n",
        "    def minimax(self, state, player):\n",
        "        max_player = self.letter  # yourself\n",
        "        other_player = 'O' if player == 'X' else 'X'\n",
        "\n",
        "        # first we want to check if the previous move is a winner\n",
        "        if state.current_winner == other_player:\n",
        "            return {'position': None, 'score': 1 * (state.num_empty_squares() + 1) if other_player == max_player else -1 * (\n",
        "                        state.num_empty_squares() + 1)}\n",
        "        elif not state.empty_squares():\n",
        "            return {'position': None, 'score': 0}\n",
        "\n",
        "        if player == max_player:\n",
        "            best = {'position': None, 'score': -inf}  # each score should maximize\n",
        "        else:\n",
        "            best = {'position': None, 'score': inf}  # each score should minimize\n",
        "        for possible_move in state.available_moves():\n",
        "            state.make_move(possible_move, player)\n",
        "            sim_score = self.minimax(state, other_player)  # simulate a game after making that move\n",
        "\n",
        "            # undo move\n",
        "            state.board[possible_move] = ' '\n",
        "            state.current_winner = None\n",
        "            sim_score['position'] = possible_move  # this represents the move optimal next move\n",
        "\n",
        "            if player == max_player:  # X is max player\n",
        "                if sim_score['score'] > best['score']:\n",
        "                    best = sim_score\n",
        "            else:\n",
        "                if sim_score['score'] < best['score']:\n",
        "                    best = sim_score\n",
        "        return best"
      ],
      "metadata": {
        "id": "3Wo7og426R4b"
      },
      "execution_count": 4,
      "outputs": []
    },
    {
      "cell_type": "markdown",
      "source": [
        "**MAKING CLASS FOR GAME**"
      ],
      "metadata": {
        "id": "PdTr2AL5pATB"
      }
    },
    {
      "cell_type": "code",
      "source": [
        "class TicTacToe():\n",
        "    def __init__(self):\n",
        "        self.board = [' ' for _ in range(9)]\n",
        "        self.current_winner = None\n",
        "\n",
        "    def print_board(self):\n",
        "        for row in [self.board[i*3:(i+1) * 3] for i in range(3)]:\n",
        "            print('| ' + ' | '.join(row) + ' |')\n",
        "\n",
        "    def print_board_nums():\n",
        "        # 0 | 1 | 2\n",
        "        number_board = [[str(i) for i in range(j*3, (j+1)*3)] for j in range(3)]\n",
        "        for row in number_board:\n",
        "            print('| ' + ' | '.join(row) + ' |')\n",
        "\n",
        "    def make_move(self, square, letter):\n",
        "        if self.board[square] == ' ':\n",
        "            self.board[square] = letter\n",
        "            if self.winner(square, letter):\n",
        "                self.current_winner = letter\n",
        "            return True\n",
        "        return False\n",
        "\n",
        "    def winner(self, square, letter):\n",
        "        # check the row\n",
        "        row_ind = square // 3\n",
        "        row = self.board[row_ind*3:(row_ind+1)*3]\n",
        "        # print('row', row)\n",
        "        if all([s == letter for s in row]):\n",
        "            return True\n",
        "        col_ind = square % 3\n",
        "        column = [self.board[col_ind+i*3] for i in range(3)]\n",
        "        # print('col', column)\n",
        "        if all([s == letter for s in column]):\n",
        "            return True\n",
        "        if square % 2 == 0:\n",
        "            diagonal1 = [self.board[i] for i in [0, 4, 8]]\n",
        "            # print('diag1', diagonal1)\n",
        "            if all([s == letter for s in diagonal1]):\n",
        "                return True\n",
        "            diagonal2 = [self.board[i] for i in [2, 4, 6]]\n",
        "            # print('diag2', diagonal2)\n",
        "            if all([s == letter for s in diagonal2]):\n",
        "                return True\n",
        "        return False\n",
        "\n",
        "    def empty_squares(self):\n",
        "        return ' ' in self.board\n",
        "\n",
        "    def num_empty_squares(self):\n",
        "        return self.board.count(' ')\n",
        "\n",
        "    def available_moves(self):\n",
        "        return [i for i, x in enumerate(self.board) if x == \" \"]\n",
        "\n",
        "\n",
        "def play(game, x_player, o_player):\n",
        "\n",
        "    letter = 'X'\n",
        "    game.print_board()\n",
        "    print('\\n')\n",
        "    while game.empty_squares():\n",
        "        if letter == 'O':\n",
        "            square = o_player.get_move(game)\n",
        "        else:\n",
        "            square = x_player.get_move(game)\n",
        "        if game.make_move(square, letter):\n",
        "\n",
        "            print(letter + ' MAKES MOVE TO SQUARE {}'.format(square))\n",
        "            game.print_board()\n",
        "            print('')\n",
        "\n",
        "            if game.current_winner:\n",
        "                print(letter + ' WINS!')\n",
        "                return letter  # ends the loop and exits the game\n",
        "            \n",
        "            letter = 'O' if letter == 'X' else 'X'  # switches player\n",
        "\n",
        "        time.sleep(1)\n",
        "\n",
        "    print('ITS A TIE!')"
      ],
      "metadata": {
        "id": "vQkCj_La6Llu"
      },
      "execution_count": 5,
      "outputs": []
    },
    {
      "cell_type": "markdown",
      "source": [
        "**AI VS AI**"
      ],
      "metadata": {
        "id": "o_RZQbQc36wE"
      }
    },
    {
      "cell_type": "code",
      "source": [
        "x_player = SmartComputerPlayer('X')\n",
        "o_player = SmartComputerPlayer('O')\n",
        "T = TicTacToe()\n",
        "play(T, x_player, o_player)"
      ],
      "metadata": {
        "colab": {
          "base_uri": "https://localhost:8080/"
        },
        "id": "S5P51P4g3uLf",
        "outputId": "385d4183-032d-43a3-e4e6-ea82818fcb8f"
      },
      "execution_count": 6,
      "outputs": [
        {
          "output_type": "stream",
          "name": "stdout",
          "text": [
            "|   |   |   |\n",
            "|   |   |   |\n",
            "|   |   |   |\n",
            "\n",
            "\n",
            "X MAKES MOVE TO SQUARE 1\n",
            "|   | X |   |\n",
            "|   |   |   |\n",
            "|   |   |   |\n",
            "\n",
            "O MAKES MOVE TO SQUARE 0\n",
            "| O | X |   |\n",
            "|   |   |   |\n",
            "|   |   |   |\n",
            "\n",
            "X MAKES MOVE TO SQUARE 3\n",
            "| O | X |   |\n",
            "| X |   |   |\n",
            "|   |   |   |\n",
            "\n",
            "O MAKES MOVE TO SQUARE 4\n",
            "| O | X |   |\n",
            "| X | O |   |\n",
            "|   |   |   |\n",
            "\n",
            "X MAKES MOVE TO SQUARE 8\n",
            "| O | X |   |\n",
            "| X | O |   |\n",
            "|   |   | X |\n",
            "\n",
            "O MAKES MOVE TO SQUARE 2\n",
            "| O | X | O |\n",
            "| X | O |   |\n",
            "|   |   | X |\n",
            "\n",
            "X MAKES MOVE TO SQUARE 6\n",
            "| O | X | O |\n",
            "| X | O |   |\n",
            "| X |   | X |\n",
            "\n",
            "O MAKES MOVE TO SQUARE 7\n",
            "| O | X | O |\n",
            "| X | O |   |\n",
            "| X | O | X |\n",
            "\n",
            "X MAKES MOVE TO SQUARE 5\n",
            "| O | X | O |\n",
            "| X | O | X |\n",
            "| X | O | X |\n",
            "\n",
            "ITS A TIE!\n"
          ]
        }
      ]
    },
    {
      "cell_type": "markdown",
      "source": [
        "**USER VS AI**"
      ],
      "metadata": {
        "id": "DlJzCxKX34VN"
      }
    },
    {
      "cell_type": "code",
      "source": [
        "x_player = HumanPlayer('X')\n",
        "o_player = SmartComputerPlayer('O')\n",
        "T = TicTacToe()\n",
        "play(T, x_player, o_player)"
      ],
      "metadata": {
        "id": "SY8NEl8K6Ywc",
        "colab": {
          "base_uri": "https://localhost:8080/"
        },
        "outputId": "e4cccdc6-9a9e-432c-f25e-c16ca3ee586d"
      },
      "execution_count": 7,
      "outputs": [
        {
          "output_type": "stream",
          "name": "stdout",
          "text": [
            "|   |   |   |\n",
            "|   |   |   |\n",
            "|   |   |   |\n",
            "\n",
            "\n",
            "X'S TURN. INPUT MOVE (0-9): 0\n",
            "X MAKES MOVE TO SQUARE 0\n",
            "| X |   |   |\n",
            "|   |   |   |\n",
            "|   |   |   |\n",
            "\n",
            "O MAKES MOVE TO SQUARE 4\n",
            "| X |   |   |\n",
            "|   | O |   |\n",
            "|   |   |   |\n",
            "\n",
            "X'S TURN. INPUT MOVE (0-9): 2\n",
            "X MAKES MOVE TO SQUARE 2\n",
            "| X |   | X |\n",
            "|   | O |   |\n",
            "|   |   |   |\n",
            "\n",
            "O MAKES MOVE TO SQUARE 1\n",
            "| X | O | X |\n",
            "|   | O |   |\n",
            "|   |   |   |\n",
            "\n",
            "X'S TURN. INPUT MOVE (0-9): 7\n",
            "X MAKES MOVE TO SQUARE 7\n",
            "| X | O | X |\n",
            "|   | O |   |\n",
            "|   | X |   |\n",
            "\n",
            "O MAKES MOVE TO SQUARE 3\n",
            "| X | O | X |\n",
            "| O | O |   |\n",
            "|   | X |   |\n",
            "\n",
            "X'S TURN. INPUT MOVE (0-9): 5\n",
            "X MAKES MOVE TO SQUARE 5\n",
            "| X | O | X |\n",
            "| O | O | X |\n",
            "|   | X |   |\n",
            "\n",
            "O MAKES MOVE TO SQUARE 8\n",
            "| X | O | X |\n",
            "| O | O | X |\n",
            "|   | X | O |\n",
            "\n",
            "X'S TURN. INPUT MOVE (0-9): 6\n",
            "X MAKES MOVE TO SQUARE 6\n",
            "| X | O | X |\n",
            "| O | O | X |\n",
            "| X | X | O |\n",
            "\n",
            "ITS A TIE!\n"
          ]
        }
      ]
    }
  ]
}
