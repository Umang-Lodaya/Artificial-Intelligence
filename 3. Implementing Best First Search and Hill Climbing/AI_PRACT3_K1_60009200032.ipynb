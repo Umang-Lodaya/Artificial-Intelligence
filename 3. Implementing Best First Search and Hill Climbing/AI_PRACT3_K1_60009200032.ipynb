{
  "nbformat": 4,
  "nbformat_minor": 0,
  "metadata": {
    "colab": {
      "provenance": [],
      "collapsed_sections": []
    },
    "kernelspec": {
      "name": "python3",
      "display_name": "Python 3"
    },
    "language_info": {
      "name": "python"
    }
  },
  "cells": [
    {
      "cell_type": "markdown",
      "source": [
        "### **NAME: UMANG KIRIT LODAYA**\n",
        "### **SAP ID: 60009200032**\n",
        "### **BATCH: K - K1**\n",
        "### **SUBJECT/TOPIC: AI PRACTICAL 3**"
      ],
      "metadata": {
        "id": "YsUjqEw1VlTf"
      }
    },
    {
      "cell_type": "markdown",
      "source": [
        "# **IMPLEMENT BEST FIRST SEARCH AND HILL CLIMBLING**"
      ],
      "metadata": {
        "id": "4P_dappkB-HF"
      }
    },
    {
      "cell_type": "markdown",
      "source": [
        "```\n",
        "START STATE    |   GOAL STATE\n",
        "               |\n",
        "               |   | A |\n",
        "| A |          |   | E |\n",
        "| B |          |   | B | \n",
        "| C | | E |    |   | C |\n",
        "| D | | F |    |   | D | | F |\n",
        "```"
      ],
      "metadata": {
        "id": "vDMtajFuCbAw"
      }
    },
    {
      "cell_type": "code",
      "source": [
        "import copy"
      ],
      "metadata": {
        "id": "JEU-Y7TRbl-6"
      },
      "execution_count": 1,
      "outputs": []
    },
    {
      "cell_type": "code",
      "source": [
        "visited_states = []"
      ],
      "metadata": {
        "id": "2O5Yyb3RbnSN"
      },
      "execution_count": 2,
      "outputs": []
    },
    {
      "cell_type": "code",
      "source": [
        "def heuristic1(curr_state,goal_state):\n",
        "    val=0\n",
        "    goal_ = goal_state[0]\n",
        "    for i in range(len(curr_state)):\n",
        "        check_val=curr_state[i]\n",
        "        if len(check_val)>0:\n",
        "            for j in range(len(check_val)):\n",
        "                try:\n",
        "                    if check_val[j]!=goal_[j]:\n",
        "                        # val-=1\n",
        "                        val-=j\n",
        "                    else:\n",
        "                        # val+=1\n",
        "                        val+=j\n",
        "                except:\n",
        "                    continue\n",
        "    return val"
      ],
      "metadata": {
        "id": "JJtCbOfzbqbb"
      },
      "execution_count": 3,
      "outputs": []
    },
    {
      "cell_type": "code",
      "source": [
        "def heuristic2(curr_state,goal_state):\n",
        "    val=0\n",
        "    goal_ = goal_state[0]\n",
        "    for i in range(len(curr_state)):\n",
        "        check_val=curr_state[i]\n",
        "        if len(check_val)>0:\n",
        "            for j in range(len(check_val)):\n",
        "                try:\n",
        "                    if check_val[j]!=goal_[j]:\n",
        "                        # val-=1\n",
        "                        val-=1\n",
        "                    else:\n",
        "                        # val+=1\n",
        "                        val+=1\n",
        "                except:\n",
        "                    continue\n",
        "    return val"
      ],
      "metadata": {
        "id": "H1aIQ4jzbr2a"
      },
      "execution_count": 4,
      "outputs": []
    },
    {
      "cell_type": "code",
      "source": [
        "def generate_next(curr_state,prev_heu,goal_state):\n",
        "    global visited_states\n",
        "    state = copy.deepcopy(curr_state)\n",
        "    for i in range(len(state)):\n",
        "        temp = copy.deepcopy(state)\n",
        "        if len(temp[i]) > 0:\n",
        "            elem = temp[i].pop()\n",
        "            for j in range(len(temp)):\n",
        "                temp1 = copy.deepcopy(temp)\n",
        "                if j != i:\n",
        "                    temp1[j] = temp1[j] + [elem]\n",
        "                    if (temp1 not in visited_states):\n",
        "                        curr_heu=heuristic1(temp1,goal_state)\n",
        "                        # if a better state than previous state of found\n",
        "                        if curr_heu>prev_heu:\n",
        "                            child = copy.deepcopy(temp1)\n",
        "                            return child\n",
        "    \n",
        "    # no better soln than current state is possible\n",
        "    return 0"
      ],
      "metadata": {
        "id": "XoNi-9MKbw7d"
      },
      "execution_count": 5,
      "outputs": []
    },
    {
      "cell_type": "code",
      "source": [
        "def printBlocks(state):\n",
        "  print('-----------')\n",
        "  for stk in state:\n",
        "    print(\"|\",end=\" \")\n",
        "    print(stk,sep=\" \")\n",
        "  print('-----------')"
      ],
      "metadata": {
        "id": "KuE1dl4Ab8mS"
      },
      "execution_count": 6,
      "outputs": []
    },
    {
      "cell_type": "code",
      "source": [
        "def solution_1(init_state,goal_state):\n",
        "    global visited_states\n",
        "\n",
        "    # checking if initial state is already the final state\n",
        "#     if (init_state == goal_state):\n",
        "#         print (goal_state)\n",
        "#         print(\"solution found!\")\n",
        "#         return\n",
        "    \n",
        "    current_state = copy.deepcopy(init_state)\n",
        "    \n",
        "    # loop while goal is found or no better optimal solution is possible\n",
        "    while(True):\n",
        "\n",
        "        # add current state to visited to avoid repetition\n",
        "        visited_states.append(copy.deepcopy(current_state))\n",
        "\n",
        "        printBlocks(current_state)\n",
        "        prev_heu=heuristic1(current_state,goal_state)\n",
        "\n",
        "        # generate possible better child from current state\n",
        "        child = generate_next(current_state,prev_heu,goal_state)\n",
        "        if (current_state == goal_state):\n",
        "            print(\"\\n-----SOLUTION FOUND!-----\\n\")\n",
        "            printBlocks(goal_state)\n",
        "            return\n",
        "        # No more better states are possible\n",
        "        elif child==0:\n",
        "            print(\"\\n-----FINAL STATE-----\\n\")\n",
        "            return\n",
        "            \n",
        "        # change current state to child\n",
        "        current_state = copy.deepcopy(child)"
      ],
      "metadata": {
        "id": "yjqbihNAa6Hw"
      },
      "execution_count": 7,
      "outputs": []
    },
    {
      "cell_type": "code",
      "source": [
        "def solution_2(init_state,goal_state):\n",
        "    global visited_states\n",
        "\n",
        "    # checking if initial state is already the final state\n",
        "#     if (init_state == goal_state):\n",
        "#         print (goal_state)\n",
        "#         print(\"solution found!\")\n",
        "#         return\n",
        "    \n",
        "    current_state = copy.deepcopy(init_state)\n",
        "    \n",
        "    # loop while goal is found or no better optimal solution is possible\n",
        "    while(True):\n",
        "\n",
        "        # add current state to visited to avoid repetition\n",
        "        visited_states.append(copy.deepcopy(current_state))\n",
        "\n",
        "        printBlocks(current_state)\n",
        "        prev_heu=heuristic2(current_state,goal_state)\n",
        "\n",
        "        # generate possible better child from current state\n",
        "        child = generate_next(current_state,prev_heu,goal_state)\n",
        "        if (current_state == goal_state):\n",
        "            print(\"\\n-----SOLUTION FOUND!-----\\n\")\n",
        "            printBlocks(goal_state)\n",
        "            return\n",
        "        # No more better states are possible\n",
        "        elif child==0:\n",
        "            print(\"\\n-----FINAL STATE-----\\n\")\n",
        "            return\n",
        "            \n",
        "        # change current state to child\n",
        "        current_state = copy.deepcopy(child)"
      ],
      "metadata": {
        "id": "a9gqarb1cuaR"
      },
      "execution_count": 8,
      "outputs": []
    },
    {
      "cell_type": "code",
      "source": [
        "def solver1():\n",
        "    # maintaining a global visited to save all visited and avoid repetition & infinite loop condition\n",
        "    global visited_states\n",
        "    # inputs\n",
        "    START = [\n",
        "            ['D', 'C', 'B', 'A'],\n",
        "            ['F', 'E'],\n",
        "            []\n",
        "        ]\n",
        "    GOAL = [\n",
        "            ['D', 'C', 'B', 'E', 'A'],\n",
        "            ['F'],\n",
        "            []\n",
        "        ]\n",
        "    # goal_state = [[],[],[],['A','D','C','B']]\n",
        "    solution_1(START,GOAL)"
      ],
      "metadata": {
        "id": "Vhx70IImbzXi"
      },
      "execution_count": 9,
      "outputs": []
    },
    {
      "cell_type": "code",
      "source": [
        "solver1()"
      ],
      "metadata": {
        "colab": {
          "base_uri": "https://localhost:8080/"
        },
        "id": "3LWNrUMZb2AI",
        "outputId": "f0593e65-e326-4b04-9fb2-4a23ef2bafa8"
      },
      "execution_count": 10,
      "outputs": [
        {
          "output_type": "stream",
          "name": "stdout",
          "text": [
            "-----------\n",
            "| ['D', 'C', 'B', 'A']\n",
            "| ['F', 'E']\n",
            "| []\n",
            "-----------\n",
            "-----------\n",
            "| ['D', 'C', 'B']\n",
            "| ['F', 'E', 'A']\n",
            "| []\n",
            "-----------\n",
            "-----------\n",
            "| ['D', 'C', 'B']\n",
            "| ['F', 'E']\n",
            "| ['A']\n",
            "-----------\n",
            "-----------\n",
            "| ['D', 'C', 'B', 'E']\n",
            "| ['F']\n",
            "| ['A']\n",
            "-----------\n",
            "-----------\n",
            "| ['D', 'C', 'B', 'E', 'A']\n",
            "| ['F']\n",
            "| []\n",
            "-----------\n",
            "\n",
            "-----SOLUTION FOUND!-----\n",
            "\n",
            "-----------\n",
            "| ['D', 'C', 'B', 'E', 'A']\n",
            "| ['F']\n",
            "| []\n",
            "-----------\n"
          ]
        }
      ]
    },
    {
      "cell_type": "code",
      "source": [
        "def solver2():\n",
        "    # maintaining a global visited to save all visited and avoid repetition & infinite loop condition\n",
        "    global visited_states\n",
        "    # inputs\n",
        "    START = [\n",
        "            ['D', 'C', 'B', 'A'],\n",
        "            ['F', 'E'],\n",
        "            []\n",
        "        ]\n",
        "    GOAL = [\n",
        "            ['D', 'C', 'B', 'E', 'A'],\n",
        "            ['F'],\n",
        "            []\n",
        "        ]\n",
        "    # goal_state = [[],[],[],['A','D','C','B']]\n",
        "    solution_2(START,GOAL)"
      ],
      "metadata": {
        "id": "ED1p7pCQc5Fm"
      },
      "execution_count": 11,
      "outputs": []
    },
    {
      "cell_type": "code",
      "source": [
        "solver2()"
      ],
      "metadata": {
        "colab": {
          "base_uri": "https://localhost:8080/"
        },
        "id": "QZcIX-Mic0Pw",
        "outputId": "3e72e56e-a911-473a-9aa6-87aadbebce97"
      },
      "execution_count": 12,
      "outputs": [
        {
          "output_type": "stream",
          "name": "stdout",
          "text": [
            "-----------\n",
            "| ['D', 'C', 'B', 'A']\n",
            "| ['F', 'E']\n",
            "| []\n",
            "-----------\n",
            "\n",
            "-----FINAL STATE-----\n",
            "\n"
          ]
        }
      ]
    }
  ]
}
