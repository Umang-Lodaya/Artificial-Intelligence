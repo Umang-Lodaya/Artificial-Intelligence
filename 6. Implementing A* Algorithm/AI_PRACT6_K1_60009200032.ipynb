{
  "cells": [
    {
      "cell_type": "markdown",
      "source": [
        "# **IMPLEMENTING A* ALGORITHM**"
      ],
      "metadata": {
        "id": "d39T3sD8pciv"
      }
    },
    {
      "cell_type": "markdown",
      "source": [
        "## **NAME: UMANG KIRIT LODAYA**\n",
        "## **SAP ID: 60009200032**\n",
        "## **BATCH: K - K1**"
      ],
      "metadata": {
        "id": "8Qk1luJwpybk"
      }
    },
    {
      "cell_type": "code",
      "source": [
        "from google.colab import drive\n",
        "drive.mount('/content/drive')"
      ],
      "metadata": {
        "colab": {
          "base_uri": "https://localhost:8080/"
        },
        "id": "rUqdEpLaKfID",
        "outputId": "67349814-e736-470f-9473-48ae68ad91cf"
      },
      "execution_count": 1,
      "outputs": [
        {
          "output_type": "stream",
          "name": "stdout",
          "text": [
            "Drive already mounted at /content/drive; to attempt to forcibly remount, call drive.mount(\"/content/drive\", force_remount=True).\n"
          ]
        }
      ]
    },
    {
      "cell_type": "markdown",
      "source": [
        "**IMPORTING LIBRARIES**"
      ],
      "metadata": {
        "id": "zVYrH40UxMhk"
      }
    },
    {
      "cell_type": "code",
      "execution_count": 2,
      "metadata": {
        "id": "igYrG8m2R7pb"
      },
      "outputs": [],
      "source": [
        "import pandas as pd\n",
        "import math"
      ]
    },
    {
      "cell_type": "markdown",
      "source": [
        "**SETTING START AND END LOCATIONS**"
      ],
      "metadata": {
        "id": "LeGw_3a9xUES"
      }
    },
    {
      "cell_type": "code",
      "execution_count": 3,
      "metadata": {
        "id": "K1mHFbh4R7pd"
      },
      "outputs": [],
      "source": [
        "START = {'id':0, 'name': 'Juhu Beach', 'lat': 19.10738206930842, 'long': 72.82651497989694} \n",
        "END = {'id':51, 'name': 'Gateway Of India', 'lat': 18.92205953640157, 'long': 72.8346486691006}"
      ]
    },
    {
      "cell_type": "markdown",
      "source": [
        "**IMPORTING LOCATIONS DATA**"
      ],
      "metadata": {
        "id": "fFvvi7s_xXZa"
      }
    },
    {
      "cell_type": "code",
      "execution_count": 4,
      "metadata": {
        "colab": {
          "base_uri": "https://localhost:8080/",
          "height": 206
        },
        "id": "IOIG8dD2R7pg",
        "outputId": "3bc6e10f-223b-4e66-ab95-329ea81fda50"
      },
      "outputs": [
        {
          "output_type": "execute_result",
          "data": {
            "text/plain": [
              "                type                                           features\n",
              "0  FeatureCollection  {'type': 'Feature', 'properties': {'name': 'Ji...\n",
              "1  FeatureCollection  {'type': 'Feature', 'properties': {'name': 'Ju...\n",
              "2  FeatureCollection  {'type': 'Feature', 'properties': {'name': 'Ha...\n",
              "3  FeatureCollection  {'type': 'Feature', 'properties': {'name': 'Ma...\n",
              "4  FeatureCollection  {'type': 'Feature', 'properties': {'name': 'Wi..."
            ],
            "text/html": [
              "\n",
              "  <div id=\"df-2b9d281d-619b-41a3-818e-717c51192e82\">\n",
              "    <div class=\"colab-df-container\">\n",
              "      <div>\n",
              "<style scoped>\n",
              "    .dataframe tbody tr th:only-of-type {\n",
              "        vertical-align: middle;\n",
              "    }\n",
              "\n",
              "    .dataframe tbody tr th {\n",
              "        vertical-align: top;\n",
              "    }\n",
              "\n",
              "    .dataframe thead th {\n",
              "        text-align: right;\n",
              "    }\n",
              "</style>\n",
              "<table border=\"1\" class=\"dataframe\">\n",
              "  <thead>\n",
              "    <tr style=\"text-align: right;\">\n",
              "      <th></th>\n",
              "      <th>type</th>\n",
              "      <th>features</th>\n",
              "    </tr>\n",
              "  </thead>\n",
              "  <tbody>\n",
              "    <tr>\n",
              "      <th>0</th>\n",
              "      <td>FeatureCollection</td>\n",
              "      <td>{'type': 'Feature', 'properties': {'name': 'Ji...</td>\n",
              "    </tr>\n",
              "    <tr>\n",
              "      <th>1</th>\n",
              "      <td>FeatureCollection</td>\n",
              "      <td>{'type': 'Feature', 'properties': {'name': 'Ju...</td>\n",
              "    </tr>\n",
              "    <tr>\n",
              "      <th>2</th>\n",
              "      <td>FeatureCollection</td>\n",
              "      <td>{'type': 'Feature', 'properties': {'name': 'Ha...</td>\n",
              "    </tr>\n",
              "    <tr>\n",
              "      <th>3</th>\n",
              "      <td>FeatureCollection</td>\n",
              "      <td>{'type': 'Feature', 'properties': {'name': 'Ma...</td>\n",
              "    </tr>\n",
              "    <tr>\n",
              "      <th>4</th>\n",
              "      <td>FeatureCollection</td>\n",
              "      <td>{'type': 'Feature', 'properties': {'name': 'Wi...</td>\n",
              "    </tr>\n",
              "  </tbody>\n",
              "</table>\n",
              "</div>\n",
              "      <button class=\"colab-df-convert\" onclick=\"convertToInteractive('df-2b9d281d-619b-41a3-818e-717c51192e82')\"\n",
              "              title=\"Convert this dataframe to an interactive table.\"\n",
              "              style=\"display:none;\">\n",
              "        \n",
              "  <svg xmlns=\"http://www.w3.org/2000/svg\" height=\"24px\"viewBox=\"0 0 24 24\"\n",
              "       width=\"24px\">\n",
              "    <path d=\"M0 0h24v24H0V0z\" fill=\"none\"/>\n",
              "    <path d=\"M18.56 5.44l.94 2.06.94-2.06 2.06-.94-2.06-.94-.94-2.06-.94 2.06-2.06.94zm-11 1L8.5 8.5l.94-2.06 2.06-.94-2.06-.94L8.5 2.5l-.94 2.06-2.06.94zm10 10l.94 2.06.94-2.06 2.06-.94-2.06-.94-.94-2.06-.94 2.06-2.06.94z\"/><path d=\"M17.41 7.96l-1.37-1.37c-.4-.4-.92-.59-1.43-.59-.52 0-1.04.2-1.43.59L10.3 9.45l-7.72 7.72c-.78.78-.78 2.05 0 2.83L4 21.41c.39.39.9.59 1.41.59.51 0 1.02-.2 1.41-.59l7.78-7.78 2.81-2.81c.8-.78.8-2.07 0-2.86zM5.41 20L4 18.59l7.72-7.72 1.47 1.35L5.41 20z\"/>\n",
              "  </svg>\n",
              "      </button>\n",
              "      \n",
              "  <style>\n",
              "    .colab-df-container {\n",
              "      display:flex;\n",
              "      flex-wrap:wrap;\n",
              "      gap: 12px;\n",
              "    }\n",
              "\n",
              "    .colab-df-convert {\n",
              "      background-color: #E8F0FE;\n",
              "      border: none;\n",
              "      border-radius: 50%;\n",
              "      cursor: pointer;\n",
              "      display: none;\n",
              "      fill: #1967D2;\n",
              "      height: 32px;\n",
              "      padding: 0 0 0 0;\n",
              "      width: 32px;\n",
              "    }\n",
              "\n",
              "    .colab-df-convert:hover {\n",
              "      background-color: #E2EBFA;\n",
              "      box-shadow: 0px 1px 2px rgba(60, 64, 67, 0.3), 0px 1px 3px 1px rgba(60, 64, 67, 0.15);\n",
              "      fill: #174EA6;\n",
              "    }\n",
              "\n",
              "    [theme=dark] .colab-df-convert {\n",
              "      background-color: #3B4455;\n",
              "      fill: #D2E3FC;\n",
              "    }\n",
              "\n",
              "    [theme=dark] .colab-df-convert:hover {\n",
              "      background-color: #434B5C;\n",
              "      box-shadow: 0px 1px 3px 1px rgba(0, 0, 0, 0.15);\n",
              "      filter: drop-shadow(0px 1px 2px rgba(0, 0, 0, 0.3));\n",
              "      fill: #FFFFFF;\n",
              "    }\n",
              "  </style>\n",
              "\n",
              "      <script>\n",
              "        const buttonEl =\n",
              "          document.querySelector('#df-2b9d281d-619b-41a3-818e-717c51192e82 button.colab-df-convert');\n",
              "        buttonEl.style.display =\n",
              "          google.colab.kernel.accessAllowed ? 'block' : 'none';\n",
              "\n",
              "        async function convertToInteractive(key) {\n",
              "          const element = document.querySelector('#df-2b9d281d-619b-41a3-818e-717c51192e82');\n",
              "          const dataTable =\n",
              "            await google.colab.kernel.invokeFunction('convertToInteractive',\n",
              "                                                     [key], {});\n",
              "          if (!dataTable) return;\n",
              "\n",
              "          const docLinkHtml = 'Like what you see? Visit the ' +\n",
              "            '<a target=\"_blank\" href=https://colab.research.google.com/notebooks/data_table.ipynb>data table notebook</a>'\n",
              "            + ' to learn more about interactive tables.';\n",
              "          element.innerHTML = '';\n",
              "          dataTable['output_type'] = 'display_data';\n",
              "          await google.colab.output.renderOutput(dataTable, element);\n",
              "          const docLink = document.createElement('div');\n",
              "          docLink.innerHTML = docLinkHtml;\n",
              "          element.appendChild(docLink);\n",
              "        }\n",
              "      </script>\n",
              "    </div>\n",
              "  </div>\n",
              "  "
            ]
          },
          "metadata": {},
          "execution_count": 4
        }
      ],
      "source": [
        "df = pd.read_json('/content/drive/MyDrive/Colab Notebooks/AI/locations.json')\n",
        "df.head()"
      ]
    },
    {
      "cell_type": "code",
      "source": [
        "df.shape"
      ],
      "metadata": {
        "colab": {
          "base_uri": "https://localhost:8080/"
        },
        "id": "QmyWDAGX87kn",
        "outputId": "8a5d6f54-a7ba-4299-96ed-fbbe5904e158"
      },
      "execution_count": 5,
      "outputs": [
        {
          "output_type": "execute_result",
          "data": {
            "text/plain": [
              "(50, 2)"
            ]
          },
          "metadata": {},
          "execution_count": 5
        }
      ]
    },
    {
      "cell_type": "markdown",
      "source": [
        "**THUS, WE HAVE TAKEN 50 LOCATION WHICH MAY/MAY NOT BE IN BEST ROUTE**"
      ],
      "metadata": {
        "id": "ttovUQ9H8zah"
      }
    },
    {
      "cell_type": "markdown",
      "source": [
        "#### **GENERATING THE LOCATIONS WITH LATITUDE AND LONGITUDE**"
      ],
      "metadata": {
        "id": "AeZAgbjcJL6G"
      }
    },
    {
      "cell_type": "code",
      "source": [
        "print(df['features'][0]['properties']['name'])\n",
        "print(df['features'][0]['properties']['lat'], df['features'][0]['properties']['lon'])"
      ],
      "metadata": {
        "colab": {
          "base_uri": "https://localhost:8080/"
        },
        "id": "m0IkPrYaV0Zb",
        "outputId": "608b4ed0-0b1b-499c-db58-fd849ec8de86"
      },
      "execution_count": 6,
      "outputs": [
        {
          "output_type": "stream",
          "name": "stdout",
          "text": [
            "Jio World Drive\n",
            "19.0538461 72.85110462955777\n"
          ]
        }
      ]
    },
    {
      "cell_type": "code",
      "source": [
        "data = {\n",
        "    'name':[START['name']],\n",
        "    'lat':[START['lat']],\n",
        "    'long':[START['long']]\n",
        "}"
      ],
      "metadata": {
        "id": "7SMs-ASd9Xka"
      },
      "execution_count": 7,
      "outputs": []
    },
    {
      "cell_type": "code",
      "execution_count": 8,
      "metadata": {
        "id": "Mq3Tn6WbR7ph"
      },
      "outputs": [],
      "source": [
        "features = df[\"features\"]\n",
        "locations = []\n",
        "\n",
        "for id, i in enumerate(features):\n",
        "    new_location_props = i[\"properties\"]\n",
        "    new_location = {'id': id+1, \"name\": new_location_props[\"name\"],\n",
        "                    \"lat\": new_location_props[\"lat\"],\n",
        "                    \"long\": new_location_props[\"lon\"],\n",
        "                    \"g\": 0,\n",
        "                    \"h\": 0,\n",
        "                    \"f\": 0\n",
        "                    }\n",
        "                    \n",
        "    data['name'].append(new_location['name'])\n",
        "    data['lat'].append(new_location['lat'])\n",
        "    data['long'].append(new_location['long'])\n",
        "    \n",
        "    locations.append(new_location)\n",
        "\n",
        "locations.append(END)"
      ]
    },
    {
      "cell_type": "code",
      "source": [
        "data['name'].append(END['name'])\n",
        "data['lat'].append(END['lat'])\n",
        "data['long'].append(END['long'])"
      ],
      "metadata": {
        "id": "ijkm6k_394Xn"
      },
      "execution_count": 9,
      "outputs": []
    },
    {
      "cell_type": "code",
      "source": [
        "data = pd.DataFrame(data, index = list(range(len(data['name']))))\n",
        "data.head()"
      ],
      "metadata": {
        "id": "Hl8pppuF9-cg",
        "colab": {
          "base_uri": "https://localhost:8080/",
          "height": 206
        },
        "outputId": "f9fe11fe-82aa-447e-911d-8c7018ce2ec4"
      },
      "execution_count": 10,
      "outputs": [
        {
          "output_type": "execute_result",
          "data": {
            "text/plain": [
              "                     name        lat       long\n",
              "0              Juhu Beach  19.107382  72.826515\n",
              "1         Jio World Drive  19.053846  72.851105\n",
              "2     Just Wear Dressline  19.066981  72.904310\n",
              "3          Happiness Deli  18.961186  72.813282\n",
              "4  Madcaps the Party Shop  19.057823  72.829794"
            ],
            "text/html": [
              "\n",
              "  <div id=\"df-8206b492-d2a4-470d-bf48-c66046caa44a\">\n",
              "    <div class=\"colab-df-container\">\n",
              "      <div>\n",
              "<style scoped>\n",
              "    .dataframe tbody tr th:only-of-type {\n",
              "        vertical-align: middle;\n",
              "    }\n",
              "\n",
              "    .dataframe tbody tr th {\n",
              "        vertical-align: top;\n",
              "    }\n",
              "\n",
              "    .dataframe thead th {\n",
              "        text-align: right;\n",
              "    }\n",
              "</style>\n",
              "<table border=\"1\" class=\"dataframe\">\n",
              "  <thead>\n",
              "    <tr style=\"text-align: right;\">\n",
              "      <th></th>\n",
              "      <th>name</th>\n",
              "      <th>lat</th>\n",
              "      <th>long</th>\n",
              "    </tr>\n",
              "  </thead>\n",
              "  <tbody>\n",
              "    <tr>\n",
              "      <th>0</th>\n",
              "      <td>Juhu Beach</td>\n",
              "      <td>19.107382</td>\n",
              "      <td>72.826515</td>\n",
              "    </tr>\n",
              "    <tr>\n",
              "      <th>1</th>\n",
              "      <td>Jio World Drive</td>\n",
              "      <td>19.053846</td>\n",
              "      <td>72.851105</td>\n",
              "    </tr>\n",
              "    <tr>\n",
              "      <th>2</th>\n",
              "      <td>Just Wear Dressline</td>\n",
              "      <td>19.066981</td>\n",
              "      <td>72.904310</td>\n",
              "    </tr>\n",
              "    <tr>\n",
              "      <th>3</th>\n",
              "      <td>Happiness Deli</td>\n",
              "      <td>18.961186</td>\n",
              "      <td>72.813282</td>\n",
              "    </tr>\n",
              "    <tr>\n",
              "      <th>4</th>\n",
              "      <td>Madcaps the Party Shop</td>\n",
              "      <td>19.057823</td>\n",
              "      <td>72.829794</td>\n",
              "    </tr>\n",
              "  </tbody>\n",
              "</table>\n",
              "</div>\n",
              "      <button class=\"colab-df-convert\" onclick=\"convertToInteractive('df-8206b492-d2a4-470d-bf48-c66046caa44a')\"\n",
              "              title=\"Convert this dataframe to an interactive table.\"\n",
              "              style=\"display:none;\">\n",
              "        \n",
              "  <svg xmlns=\"http://www.w3.org/2000/svg\" height=\"24px\"viewBox=\"0 0 24 24\"\n",
              "       width=\"24px\">\n",
              "    <path d=\"M0 0h24v24H0V0z\" fill=\"none\"/>\n",
              "    <path d=\"M18.56 5.44l.94 2.06.94-2.06 2.06-.94-2.06-.94-.94-2.06-.94 2.06-2.06.94zm-11 1L8.5 8.5l.94-2.06 2.06-.94-2.06-.94L8.5 2.5l-.94 2.06-2.06.94zm10 10l.94 2.06.94-2.06 2.06-.94-2.06-.94-.94-2.06-.94 2.06-2.06.94z\"/><path d=\"M17.41 7.96l-1.37-1.37c-.4-.4-.92-.59-1.43-.59-.52 0-1.04.2-1.43.59L10.3 9.45l-7.72 7.72c-.78.78-.78 2.05 0 2.83L4 21.41c.39.39.9.59 1.41.59.51 0 1.02-.2 1.41-.59l7.78-7.78 2.81-2.81c.8-.78.8-2.07 0-2.86zM5.41 20L4 18.59l7.72-7.72 1.47 1.35L5.41 20z\"/>\n",
              "  </svg>\n",
              "      </button>\n",
              "      \n",
              "  <style>\n",
              "    .colab-df-container {\n",
              "      display:flex;\n",
              "      flex-wrap:wrap;\n",
              "      gap: 12px;\n",
              "    }\n",
              "\n",
              "    .colab-df-convert {\n",
              "      background-color: #E8F0FE;\n",
              "      border: none;\n",
              "      border-radius: 50%;\n",
              "      cursor: pointer;\n",
              "      display: none;\n",
              "      fill: #1967D2;\n",
              "      height: 32px;\n",
              "      padding: 0 0 0 0;\n",
              "      width: 32px;\n",
              "    }\n",
              "\n",
              "    .colab-df-convert:hover {\n",
              "      background-color: #E2EBFA;\n",
              "      box-shadow: 0px 1px 2px rgba(60, 64, 67, 0.3), 0px 1px 3px 1px rgba(60, 64, 67, 0.15);\n",
              "      fill: #174EA6;\n",
              "    }\n",
              "\n",
              "    [theme=dark] .colab-df-convert {\n",
              "      background-color: #3B4455;\n",
              "      fill: #D2E3FC;\n",
              "    }\n",
              "\n",
              "    [theme=dark] .colab-df-convert:hover {\n",
              "      background-color: #434B5C;\n",
              "      box-shadow: 0px 1px 3px 1px rgba(0, 0, 0, 0.15);\n",
              "      filter: drop-shadow(0px 1px 2px rgba(0, 0, 0, 0.3));\n",
              "      fill: #FFFFFF;\n",
              "    }\n",
              "  </style>\n",
              "\n",
              "      <script>\n",
              "        const buttonEl =\n",
              "          document.querySelector('#df-8206b492-d2a4-470d-bf48-c66046caa44a button.colab-df-convert');\n",
              "        buttonEl.style.display =\n",
              "          google.colab.kernel.accessAllowed ? 'block' : 'none';\n",
              "\n",
              "        async function convertToInteractive(key) {\n",
              "          const element = document.querySelector('#df-8206b492-d2a4-470d-bf48-c66046caa44a');\n",
              "          const dataTable =\n",
              "            await google.colab.kernel.invokeFunction('convertToInteractive',\n",
              "                                                     [key], {});\n",
              "          if (!dataTable) return;\n",
              "\n",
              "          const docLinkHtml = 'Like what you see? Visit the ' +\n",
              "            '<a target=\"_blank\" href=https://colab.research.google.com/notebooks/data_table.ipynb>data table notebook</a>'\n",
              "            + ' to learn more about interactive tables.';\n",
              "          element.innerHTML = '';\n",
              "          dataTable['output_type'] = 'display_data';\n",
              "          await google.colab.output.renderOutput(dataTable, element);\n",
              "          const docLink = document.createElement('div');\n",
              "          docLink.innerHTML = docLinkHtml;\n",
              "          element.appendChild(docLink);\n",
              "        }\n",
              "      </script>\n",
              "    </div>\n",
              "  </div>\n",
              "  "
            ]
          },
          "metadata": {},
          "execution_count": 10
        }
      ]
    },
    {
      "cell_type": "code",
      "source": [
        "data.tail()"
      ],
      "metadata": {
        "id": "0IUbSsvW-Nqh",
        "colab": {
          "base_uri": "https://localhost:8080/",
          "height": 206
        },
        "outputId": "d5fbb53b-b79f-423b-c6f0-cbe1f365501f"
      },
      "execution_count": 11,
      "outputs": [
        {
          "output_type": "execute_result",
          "data": {
            "text/plain": [
              "                            name        lat       long\n",
              "47             Strand Book Stall  18.934187  72.834810\n",
              "48             Maa Laxmi Jewelry  19.039256  72.852191\n",
              "49  Star Auto Garage (Yusufbhai)  19.045430  72.915750\n",
              "50               ROOPAM PHARMACY  19.054337  72.891566\n",
              "51              Gateway Of India  18.922060  72.834649"
            ],
            "text/html": [
              "\n",
              "  <div id=\"df-5500a1f1-d40b-4216-964c-3bb54d1bc3b7\">\n",
              "    <div class=\"colab-df-container\">\n",
              "      <div>\n",
              "<style scoped>\n",
              "    .dataframe tbody tr th:only-of-type {\n",
              "        vertical-align: middle;\n",
              "    }\n",
              "\n",
              "    .dataframe tbody tr th {\n",
              "        vertical-align: top;\n",
              "    }\n",
              "\n",
              "    .dataframe thead th {\n",
              "        text-align: right;\n",
              "    }\n",
              "</style>\n",
              "<table border=\"1\" class=\"dataframe\">\n",
              "  <thead>\n",
              "    <tr style=\"text-align: right;\">\n",
              "      <th></th>\n",
              "      <th>name</th>\n",
              "      <th>lat</th>\n",
              "      <th>long</th>\n",
              "    </tr>\n",
              "  </thead>\n",
              "  <tbody>\n",
              "    <tr>\n",
              "      <th>47</th>\n",
              "      <td>Strand Book Stall</td>\n",
              "      <td>18.934187</td>\n",
              "      <td>72.834810</td>\n",
              "    </tr>\n",
              "    <tr>\n",
              "      <th>48</th>\n",
              "      <td>Maa Laxmi Jewelry</td>\n",
              "      <td>19.039256</td>\n",
              "      <td>72.852191</td>\n",
              "    </tr>\n",
              "    <tr>\n",
              "      <th>49</th>\n",
              "      <td>Star Auto Garage (Yusufbhai)</td>\n",
              "      <td>19.045430</td>\n",
              "      <td>72.915750</td>\n",
              "    </tr>\n",
              "    <tr>\n",
              "      <th>50</th>\n",
              "      <td>ROOPAM PHARMACY</td>\n",
              "      <td>19.054337</td>\n",
              "      <td>72.891566</td>\n",
              "    </tr>\n",
              "    <tr>\n",
              "      <th>51</th>\n",
              "      <td>Gateway Of India</td>\n",
              "      <td>18.922060</td>\n",
              "      <td>72.834649</td>\n",
              "    </tr>\n",
              "  </tbody>\n",
              "</table>\n",
              "</div>\n",
              "      <button class=\"colab-df-convert\" onclick=\"convertToInteractive('df-5500a1f1-d40b-4216-964c-3bb54d1bc3b7')\"\n",
              "              title=\"Convert this dataframe to an interactive table.\"\n",
              "              style=\"display:none;\">\n",
              "        \n",
              "  <svg xmlns=\"http://www.w3.org/2000/svg\" height=\"24px\"viewBox=\"0 0 24 24\"\n",
              "       width=\"24px\">\n",
              "    <path d=\"M0 0h24v24H0V0z\" fill=\"none\"/>\n",
              "    <path d=\"M18.56 5.44l.94 2.06.94-2.06 2.06-.94-2.06-.94-.94-2.06-.94 2.06-2.06.94zm-11 1L8.5 8.5l.94-2.06 2.06-.94-2.06-.94L8.5 2.5l-.94 2.06-2.06.94zm10 10l.94 2.06.94-2.06 2.06-.94-2.06-.94-.94-2.06-.94 2.06-2.06.94z\"/><path d=\"M17.41 7.96l-1.37-1.37c-.4-.4-.92-.59-1.43-.59-.52 0-1.04.2-1.43.59L10.3 9.45l-7.72 7.72c-.78.78-.78 2.05 0 2.83L4 21.41c.39.39.9.59 1.41.59.51 0 1.02-.2 1.41-.59l7.78-7.78 2.81-2.81c.8-.78.8-2.07 0-2.86zM5.41 20L4 18.59l7.72-7.72 1.47 1.35L5.41 20z\"/>\n",
              "  </svg>\n",
              "      </button>\n",
              "      \n",
              "  <style>\n",
              "    .colab-df-container {\n",
              "      display:flex;\n",
              "      flex-wrap:wrap;\n",
              "      gap: 12px;\n",
              "    }\n",
              "\n",
              "    .colab-df-convert {\n",
              "      background-color: #E8F0FE;\n",
              "      border: none;\n",
              "      border-radius: 50%;\n",
              "      cursor: pointer;\n",
              "      display: none;\n",
              "      fill: #1967D2;\n",
              "      height: 32px;\n",
              "      padding: 0 0 0 0;\n",
              "      width: 32px;\n",
              "    }\n",
              "\n",
              "    .colab-df-convert:hover {\n",
              "      background-color: #E2EBFA;\n",
              "      box-shadow: 0px 1px 2px rgba(60, 64, 67, 0.3), 0px 1px 3px 1px rgba(60, 64, 67, 0.15);\n",
              "      fill: #174EA6;\n",
              "    }\n",
              "\n",
              "    [theme=dark] .colab-df-convert {\n",
              "      background-color: #3B4455;\n",
              "      fill: #D2E3FC;\n",
              "    }\n",
              "\n",
              "    [theme=dark] .colab-df-convert:hover {\n",
              "      background-color: #434B5C;\n",
              "      box-shadow: 0px 1px 3px 1px rgba(0, 0, 0, 0.15);\n",
              "      filter: drop-shadow(0px 1px 2px rgba(0, 0, 0, 0.3));\n",
              "      fill: #FFFFFF;\n",
              "    }\n",
              "  </style>\n",
              "\n",
              "      <script>\n",
              "        const buttonEl =\n",
              "          document.querySelector('#df-5500a1f1-d40b-4216-964c-3bb54d1bc3b7 button.colab-df-convert');\n",
              "        buttonEl.style.display =\n",
              "          google.colab.kernel.accessAllowed ? 'block' : 'none';\n",
              "\n",
              "        async function convertToInteractive(key) {\n",
              "          const element = document.querySelector('#df-5500a1f1-d40b-4216-964c-3bb54d1bc3b7');\n",
              "          const dataTable =\n",
              "            await google.colab.kernel.invokeFunction('convertToInteractive',\n",
              "                                                     [key], {});\n",
              "          if (!dataTable) return;\n",
              "\n",
              "          const docLinkHtml = 'Like what you see? Visit the ' +\n",
              "            '<a target=\"_blank\" href=https://colab.research.google.com/notebooks/data_table.ipynb>data table notebook</a>'\n",
              "            + ' to learn more about interactive tables.';\n",
              "          element.innerHTML = '';\n",
              "          dataTable['output_type'] = 'display_data';\n",
              "          await google.colab.output.renderOutput(dataTable, element);\n",
              "          const docLink = document.createElement('div');\n",
              "          docLink.innerHTML = docLinkHtml;\n",
              "          element.appendChild(docLink);\n",
              "        }\n",
              "      </script>\n",
              "    </div>\n",
              "  </div>\n",
              "  "
            ]
          },
          "metadata": {},
          "execution_count": 11
        }
      ]
    },
    {
      "cell_type": "markdown",
      "source": [
        "#### **FUNCTION**"
      ],
      "metadata": {
        "id": "-IOVTrjKJT7E"
      }
    },
    {
      "cell_type": "markdown",
      "source": [
        "**TO CHECK IF ITEM IS IN THE ARRAY**"
      ],
      "metadata": {
        "id": "4P0dCkOb-ZFO"
      }
    },
    {
      "cell_type": "code",
      "execution_count": 12,
      "metadata": {
        "id": "tZMVR1tbR7pk"
      },
      "outputs": [],
      "source": [
        "def IN(item, array):\n",
        "    for i in array:\n",
        "        if item[\"id\"]==i[\"id\"]:\n",
        "            return True\n",
        "            \n",
        "    return False"
      ]
    },
    {
      "cell_type": "markdown",
      "source": [
        "**FOR FILTERING THE OPEN/CLOSED ARRAY FOR REMOVING THE SEEN LOCATION**"
      ],
      "metadata": {
        "id": "Pr0buUHv-gll"
      }
    },
    {
      "cell_type": "code",
      "execution_count": 13,
      "metadata": {
        "id": "EWK5gNjER7pm"
      },
      "outputs": [],
      "source": [
        "def filterArray(item, array):\n",
        "    \n",
        "    filtered = list(filter(lambda x: x[\"id\"]==item[\"id\"], array))\n",
        "\n",
        "    return filtered[0] if len(filtered)>0 else []"
      ]
    },
    {
      "cell_type": "markdown",
      "source": [
        "**FOR HAVERSINE DISTANCE**"
      ],
      "metadata": {
        "id": "o2ya7fEMxkHp"
      }
    },
    {
      "cell_type": "code",
      "source": [
        "def havesine_distance(loc1, loc2):\n",
        "    lat1, long1 = loc1['lat'], loc1['long']\n",
        "    lat2, long2 = loc2['lat'], loc2['long']\n",
        "\n",
        "    dLat = (lat2 - lat1) * math.pi / 180.0\n",
        "    dLon = (long2 - long1) * math.pi / 180.0\n",
        " \n",
        "    # convert to radians\n",
        "    lat1 = (lat1) * math.pi / 180.0\n",
        "    lat2 = (lat2) * math.pi / 180.0\n",
        " \n",
        "    # apply formulae\n",
        "    a = (pow(math.sin(dLat / 2), 2) +\n",
        "         pow(math.sin(dLon / 2), 2) *\n",
        "             math.cos(lat1) * math.cos(lat2));\n",
        "    rad = 6371\n",
        "    c = 2 * math.asin(math.sqrt(a))\n",
        "    return rad * c"
      ],
      "metadata": {
        "id": "My02mWMUxgYe"
      },
      "execution_count": 14,
      "outputs": []
    },
    {
      "cell_type": "markdown",
      "source": [
        "**MOVE GEN FUNCTION**"
      ],
      "metadata": {
        "id": "hbN72GY-xrtn"
      }
    },
    {
      "cell_type": "code",
      "execution_count": 15,
      "metadata": {
        "id": "jvmJFbPrR7po"
      },
      "outputs": [],
      "source": [
        "def move_gen(location, open, closed):\n",
        "    neighbours = []\n",
        "\n",
        "    for i in locations:\n",
        "        # FOR IMPLEMENTING REMOVE SEEN\n",
        "        if not IN(i,open) and not IN(i, closed) and i[\"id\"]!=location[\"id\"]:\n",
        "            neighbours.append(i)\n",
        "\n",
        "    # RETURNING TOP 5 BEST NEXT LOCATIONS\n",
        "    return sorted(neighbours, key=lambda x: havesine_distance(x, location))[:5]"
      ]
    },
    {
      "cell_type": "markdown",
      "source": [
        "**GOAL TEST FUNCTION**"
      ],
      "metadata": {
        "id": "l-31hkLuxuFH"
      }
    },
    {
      "cell_type": "code",
      "execution_count": 16,
      "metadata": {
        "id": "562P_1vFR7pp"
      },
      "outputs": [],
      "source": [
        "def goal_test(location):\n",
        "    global END\n",
        "    if location[\"name\"]==END[\"name\"]:\n",
        "        return True\n",
        "        \n",
        "    else:\n",
        "        return False"
      ]
    },
    {
      "cell_type": "markdown",
      "source": [
        "**H(x) - HEURISTIC FUNCTION**"
      ],
      "metadata": {
        "id": "79Tzm6d4xwM8"
      }
    },
    {
      "cell_type": "code",
      "execution_count": 17,
      "metadata": {
        "id": "81POU-8oR7pr"
      },
      "outputs": [],
      "source": [
        "def h_function(location):\n",
        "    global END\n",
        "    h = havesine_distance(location, END)\n",
        "    location[\"h\"] = h"
      ]
    },
    {
      "cell_type": "markdown",
      "source": [
        "**G(x) - DISTANCE FROM START TO CURRENT LOCATION**"
      ],
      "metadata": {
        "id": "Y-dPwqueIl0i"
      }
    },
    {
      "cell_type": "code",
      "execution_count": 18,
      "metadata": {
        "id": "6ixlsFMmR7pr"
      },
      "outputs": [],
      "source": [
        "def g_function(parent, child):\n",
        "    g = parent['g'] + havesine_distance(parent, child)\n",
        "    child[\"g\"] = g"
      ]
    },
    {
      "cell_type": "markdown",
      "source": [
        "**F(x) = G(x) + H(x)**"
      ],
      "metadata": {
        "id": "yJMoBkCwItsE"
      }
    },
    {
      "cell_type": "code",
      "execution_count": 19,
      "metadata": {
        "id": "1-FLD_X_R7ps"
      },
      "outputs": [],
      "source": [
        "def f_function(item):\n",
        "    item[\"f\"] = item[\"g\"] + item[\"h\"]"
      ]
    },
    {
      "cell_type": "markdown",
      "source": [
        "**RECONSTRUCTING THE PATH**"
      ],
      "metadata": {
        "id": "IUp9ephbMVr9"
      }
    },
    {
      "cell_type": "code",
      "source": [
        "def reconstructPath(my_path):\n",
        "    goalPath = []\n",
        "\n",
        "    # TAKING GOAL NODE AND ADDING IT TO PATH\n",
        "    currNode = my_path.pop()\n",
        "    goalPath.append(currNode[0])\n",
        "    my_path = sorted(my_path, key=lambda x: x[0][\"f\"])\n",
        "\n",
        "    # LOOP UNTIL WE GET ROOT NODE\n",
        "    while currNode[1] != None:\n",
        "        prev = []\n",
        "        # FINDING PARENT NODE OF PARENT NODE OF CURRENT NODE\n",
        "        for node in my_path:\n",
        "            if node[0] == currNode[1]:\n",
        "                prev.append(node)\n",
        "\n",
        "        # print(f'PARENT OF {currNode[1]} ARE:',prev)\n",
        "        # print('MY PATH:',my_path)\n",
        "        \n",
        "        # SETTING CURRENT NODE TO NEWLY FOUND PARENT NODE\n",
        "        currNode = prev.pop()\n",
        "        # ADDING NODE TO PATH\n",
        "        goalPath.append(currNode[0])\n",
        "\n",
        "    return goalPath[::-1]"
      ],
      "metadata": {
        "id": "PByeYln-MZok"
      },
      "execution_count": 20,
      "outputs": []
    },
    {
      "cell_type": "markdown",
      "source": [
        "**FOR DISPLAYING THE PATH**"
      ],
      "metadata": {
        "id": "OH2sirBi-p8H"
      }
    },
    {
      "cell_type": "code",
      "source": [
        "def display(path):\n",
        "    print('\\nOPTIMAL PATH IS:\\n')\n",
        "    print(path[0], end=' ')\n",
        "    for i in path[1:]:\n",
        "        print('->', i, end=' ')"
      ],
      "metadata": {
        "id": "oIWLdU8FumLp"
      },
      "execution_count": 21,
      "outputs": []
    },
    {
      "cell_type": "markdown",
      "source": [
        "**A* ALGORITHM**"
      ],
      "metadata": {
        "id": "73Q2vkJsx2u4"
      }
    },
    {
      "cell_type": "code",
      "execution_count": 22,
      "metadata": {
        "id": "YRVWAbAhR7pt"
      },
      "outputs": [],
      "source": [
        "def A_STAR():\n",
        "    global START\n",
        "    START[\"g\"] = 0\n",
        "    \n",
        "    h_function(START)\n",
        "    START[\"f\"] = START['g'] + START['h']\n",
        "\n",
        "    OPEN = []\n",
        "    OPEN.append(START)\n",
        "    \n",
        "    CLOSED = []\n",
        "    SEEN = [[START, None]]\n",
        "\n",
        "    while OPEN != []:\n",
        "        # SORTING THE OPEN IN INCREASING OF F VALUE\n",
        "        OPEN = sorted(OPEN, key=lambda x: x[\"f\"])\n",
        "        bestLocation = OPEN.pop(0)\n",
        "\n",
        "        # GENERATING THE NEXT BEST LOCATIONS\n",
        "        children = move_gen(bestLocation, OPEN, CLOSED)\n",
        "        # print(len(children))\n",
        "        \n",
        "        for child in children:\n",
        "            SEEN.append([child, bestLocation])\n",
        "\n",
        "            if goal_test(child):\n",
        "                CLOSED.append(bestLocation)\n",
        "                CLOSED = reconstructPath(SEEN)\n",
        "                return [i[\"name\"] for i in CLOSED]\n",
        "                \n",
        "            else:\n",
        "                g_function(bestLocation, child)\n",
        "                h_function(child)\n",
        "                f_function(child)\n",
        "            \n",
        "            \n",
        "            if IN(child, OPEN):\n",
        "\n",
        "                if filterArray(child, OPEN)[\"f\"] < child[\"f\"]:\n",
        "\n",
        "                    # 3 - IF OPEN IN CLOSED AND DOESN'T HAVE BETTER F VALUE, THEN APPENDING TO THE OPEN\n",
        "                    if IN(child, CLOSED) and filterArray(child, CLOSED)[\"f\"] > child[\"f\"]:\n",
        "\n",
        "                            OPEN.append(child)\n",
        "                \n",
        "                # 2 - IF CHILD IN OPEN DOESN'T HAVE BETTER F VALUE\n",
        "                else:\n",
        "                    OPEN.append(child)\n",
        "            \n",
        "            # 1 - IF CHILD NOT IN OPEN, APPENDING IT\n",
        "            else:\n",
        "                OPEN.append(child)\n",
        "\n",
        "        CLOSED.append(bestLocation)"
      ]
    },
    {
      "cell_type": "code",
      "source": [
        "path = A_STAR()\n",
        "display(path)"
      ],
      "metadata": {
        "id": "jUR__hkntcbx",
        "colab": {
          "base_uri": "https://localhost:8080/"
        },
        "outputId": "bd258c51-af45-4643-d0fa-96ce3568b76b"
      },
      "execution_count": 23,
      "outputs": [
        {
          "output_type": "stream",
          "name": "stdout",
          "text": [
            "\n",
            "OPTIMAL PATH IS:\n",
            "\n",
            "Juhu Beach -> Avon Hair Dressers -> Patel Provision Stores -> S.K Creation -> Gateway Of India "
          ]
        }
      ]
    }
  ],
  "metadata": {
    "kernelspec": {
      "display_name": "Python 3.8.8 64-bit",
      "language": "python",
      "name": "python3"
    },
    "language_info": {
      "codemirror_mode": {
        "name": "ipython",
        "version": 3
      },
      "file_extension": ".py",
      "mimetype": "text/x-python",
      "name": "python",
      "nbconvert_exporter": "python",
      "pygments_lexer": "ipython3",
      "version": "3.8.8"
    },
    "orig_nbformat": 4,
    "vscode": {
      "interpreter": {
        "hash": "cffeca35f0649ead0966775c9e50ab7780a7d9f8ada2f49e7721fe5ea5d09be8"
      }
    },
    "colab": {
      "provenance": []
    }
  },
  "nbformat": 4,
  "nbformat_minor": 0
}
