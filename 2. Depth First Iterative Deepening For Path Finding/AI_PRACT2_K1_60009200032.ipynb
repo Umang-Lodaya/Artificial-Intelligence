{
  "nbformat": 4,
  "nbformat_minor": 0,
  "metadata": {
    "colab": {
      "provenance": [],
      "collapsed_sections": []
    },
    "kernelspec": {
      "name": "python3",
      "display_name": "Python 3"
    },
    "language_info": {
      "name": "python"
    }
  },
  "cells": [
    {
      "cell_type": "markdown",
      "source": [
        "## **PERFORMING DFID FOR GRAPH**"
      ],
      "metadata": {
        "id": "-LXo8a82ejnk"
      }
    },
    {
      "cell_type": "markdown",
      "source": [
        "### **CREATING GRAPH CLASS**"
      ],
      "metadata": {
        "id": "D7I0Z5Tveo8O"
      }
    },
    {
      "cell_type": "code",
      "execution_count": 1,
      "metadata": {
        "id": "6riDCbQ180Hp"
      },
      "outputs": [],
      "source": [
        "class Graph:\n",
        "    def __init__(self, vertices, n_vertices):\n",
        "        self.n_vertices = n_vertices\n",
        "        self.vertices = vertices\n",
        "\n",
        "        self.adj_list = {}\n",
        "        for i in range(self.n_vertices):\n",
        "            self.adj_list[self.vertices[i][0]] = []\n",
        "    \n",
        "    def size(self):\n",
        "        return self.n_vertices\n",
        "\n",
        "    def vertex(self):\n",
        "        self.all_vertices = [node[0] for node in self.vertices]\n",
        "        return self.all_vertices\n",
        "\n",
        "    def add_edges(self, src, des):\n",
        "        self.adj_list[str(src)].append(str(des))\n",
        "    \n",
        "    def get_depth(self, src):\n",
        "        for node in self.vertices:\n",
        "            if node[0] == src:\n",
        "                return node[1]\n",
        "\n",
        "    def max_depth(self):\n",
        "        self.m_depth = 0\n",
        "        for node in self.vertices:\n",
        "            if self.m_depth < node[1]:\n",
        "                self.m_depth = node[1]\n",
        "                \n",
        "        return self.m_depth\n",
        "    def neighbours(self, src):\n",
        "        return self.adj_list[src]\n",
        "\n",
        "    def display_graph(self):\n",
        "        for node in self.vertices:\n",
        "            print(node[0],'->',self.adj_list[node[0]])\n"
      ]
    },
    {
      "cell_type": "markdown",
      "source": [
        "##### **TESTING GRAPH CLASS AND ITS FUNCTIONS**"
      ],
      "metadata": {
        "id": "0QRTB_cgeuQM"
      }
    },
    {
      "cell_type": "markdown",
      "source": [
        "<img src='https://encrypted-tbn0.gstatic.com/images?q=tbn:ANd9GcRbyVW0aTSYRj5YFR8tTV_v3bmDWvsXqisPYw&usqp=CAU' height=325 width=500></img>"
      ],
      "metadata": {
        "id": "jZYizwu8MUr9"
      }
    },
    {
      "cell_type": "code",
      "source": [
        "all_vertices = [['A', 0],\n",
        "                ['B', 1], ['C', 1], ['D', 1],\n",
        "                ['E', 2], ['F', 2], ['G', 2], ['H', 2], ['I', 2],\n",
        "                ['J', 3], ['K', 3]]"
      ],
      "metadata": {
        "id": "3QI-aJQz_q36"
      },
      "execution_count": 2,
      "outputs": []
    },
    {
      "cell_type": "code",
      "source": [
        "G = Graph(all_vertices, len(all_vertices))"
      ],
      "metadata": {
        "id": "3a_LMUip_Hxj"
      },
      "execution_count": 3,
      "outputs": []
    },
    {
      "cell_type": "code",
      "source": [
        "print(G.size())"
      ],
      "metadata": {
        "colab": {
          "base_uri": "https://localhost:8080/"
        },
        "id": "n-vip1k6IZpE",
        "outputId": "8da154a1-9827-47aa-f665-6d282f8842da"
      },
      "execution_count": 4,
      "outputs": [
        {
          "output_type": "stream",
          "name": "stdout",
          "text": [
            "11\n"
          ]
        }
      ]
    },
    {
      "cell_type": "code",
      "source": [
        "print(G.vertex())"
      ],
      "metadata": {
        "colab": {
          "base_uri": "https://localhost:8080/"
        },
        "id": "9yOvSo2IH7sE",
        "outputId": "85611776-5473-4ec5-bbd2-2968371a3eb9"
      },
      "execution_count": 5,
      "outputs": [
        {
          "output_type": "stream",
          "name": "stdout",
          "text": [
            "['A', 'B', 'C', 'D', 'E', 'F', 'G', 'H', 'I', 'J', 'K']\n"
          ]
        }
      ]
    },
    {
      "cell_type": "code",
      "source": [
        "G.add_edges('A', 'B')\n",
        "G.add_edges('A', 'C')\n",
        "G.add_edges('A', 'D')\n",
        "\n",
        "G.add_edges('B', 'E')\n",
        "G.add_edges('B', 'F')\n",
        "\n",
        "G.add_edges('C', 'G')\n",
        "\n",
        "G.add_edges('D', 'H')\n",
        "G.add_edges('D', 'I')\n",
        "\n",
        "G.add_edges('F', 'J')\n",
        "\n",
        "G.add_edges('G', 'K')"
      ],
      "metadata": {
        "id": "bSdi5K8RADhi"
      },
      "execution_count": 6,
      "outputs": []
    },
    {
      "cell_type": "code",
      "source": [
        "G.display_graph()"
      ],
      "metadata": {
        "colab": {
          "base_uri": "https://localhost:8080/"
        },
        "id": "zlYckuiqBHQT",
        "outputId": "2ce7f8aa-bea6-467a-dcdc-17ec45f63391"
      },
      "execution_count": 7,
      "outputs": [
        {
          "output_type": "stream",
          "name": "stdout",
          "text": [
            "A -> ['B', 'C', 'D']\n",
            "B -> ['E', 'F']\n",
            "C -> ['G']\n",
            "D -> ['H', 'I']\n",
            "E -> []\n",
            "F -> ['J']\n",
            "G -> ['K']\n",
            "H -> []\n",
            "I -> []\n",
            "J -> []\n",
            "K -> []\n"
          ]
        }
      ]
    },
    {
      "cell_type": "code",
      "source": [
        "for node in G.vertex():\n",
        "    print(f'DEPTH OF {node}:',G.get_depth(node))"
      ],
      "metadata": {
        "colab": {
          "base_uri": "https://localhost:8080/"
        },
        "id": "UnKknYUTIWsc",
        "outputId": "dbe5cf48-bd28-463d-c2b0-f60ecacc5dc7"
      },
      "execution_count": 8,
      "outputs": [
        {
          "output_type": "stream",
          "name": "stdout",
          "text": [
            "DEPTH OF A: 0\n",
            "DEPTH OF B: 1\n",
            "DEPTH OF C: 1\n",
            "DEPTH OF D: 1\n",
            "DEPTH OF E: 2\n",
            "DEPTH OF F: 2\n",
            "DEPTH OF G: 2\n",
            "DEPTH OF H: 2\n",
            "DEPTH OF I: 2\n",
            "DEPTH OF J: 3\n",
            "DEPTH OF K: 3\n"
          ]
        }
      ]
    },
    {
      "cell_type": "code",
      "source": [
        "G.max_depth()"
      ],
      "metadata": {
        "colab": {
          "base_uri": "https://localhost:8080/"
        },
        "id": "ZMwvJcgfLcfj",
        "outputId": "674ef23c-8ada-4dd4-d4c1-d62d9f227ebc"
      },
      "execution_count": 9,
      "outputs": [
        {
          "output_type": "execute_result",
          "data": {
            "text/plain": [
              "3"
            ]
          },
          "metadata": {},
          "execution_count": 9
        }
      ]
    },
    {
      "cell_type": "markdown",
      "source": [
        "### **DEPTH FIRST ITERATIVE DEEPENING**"
      ],
      "metadata": {
        "id": "M4dtLaM6e0yJ"
      }
    },
    {
      "cell_type": "code",
      "source": [
        "G.display_graph()"
      ],
      "metadata": {
        "colab": {
          "base_uri": "https://localhost:8080/"
        },
        "id": "o1lYfdCmhfc_",
        "outputId": "7fcb929d-1f3c-4a53-f319-514fe64965c7"
      },
      "execution_count": 10,
      "outputs": [
        {
          "output_type": "stream",
          "name": "stdout",
          "text": [
            "A -> ['B', 'C', 'D']\n",
            "B -> ['E', 'F']\n",
            "C -> ['G']\n",
            "D -> ['H', 'I']\n",
            "E -> []\n",
            "F -> ['J']\n",
            "G -> ['K']\n",
            "H -> []\n",
            "I -> []\n",
            "J -> []\n",
            "K -> []\n"
          ]
        }
      ]
    },
    {
      "cell_type": "markdown",
      "source": [
        "#### **GOAL TEST**"
      ],
      "metadata": {
        "id": "eybq1-o2Atrz"
      }
    },
    {
      "cell_type": "code",
      "source": [
        "def goalTest(G,node, g):\n",
        "    if g in G.neighbours(node):\n",
        "        # RETURN TRUE AS STATUS, AND GOAL-PARENT NODE PAIR\n",
        "        return [True, [g, node]]\n",
        "\n",
        "    # RETURNS FALSE AS STATUS WTIH AN EMPTY LIST\n",
        "    return [False, []]"
      ],
      "metadata": {
        "id": "etX4qPHbMCf4"
      },
      "execution_count": 11,
      "outputs": []
    },
    {
      "cell_type": "markdown",
      "source": [
        "#### **MOVE GEN FUNCTION**"
      ],
      "metadata": {
        "id": "VFqQwG0kAwQY"
      }
    },
    {
      "cell_type": "code",
      "source": [
        "def moveGen(G,node, goal):\n",
        "    if not goalTest(G, node, goal)[0]:\n",
        "        # print('NEIGHBOURS OF',node,'ARE',G.neighbours(node))\n",
        "\n",
        "        # IF GOAL TEST FAILES, IT RETURN FALSE AS STATUS AND NEIGHBOUR OF CURRENT NODE\n",
        "        return [False, G.neighbours(node)]\n",
        "\n",
        "    # IF GOAL TEST PASSES, IT WILL SAME LIST AS GOAL TEST\n",
        "    return goalTest(G,node, goal)"
      ],
      "metadata": {
        "id": "YkeKxh4ZNaxE"
      },
      "execution_count": 12,
      "outputs": []
    },
    {
      "cell_type": "markdown",
      "source": [
        "#### **MAKE PAIR FUNCTION**"
      ],
      "metadata": {
        "id": "lmray7EPAz16"
      }
    },
    {
      "cell_type": "code",
      "source": [
        "def makePair(G, parent, goal):\n",
        "    child = moveGen(G, parent, goal)\n",
        "    # print('CHILD:',child)\n",
        "    \n",
        "    # STATUS OF CHILD WILL BE TRUE WHEN IT FINDS THE GOAL NODE, AND IT WILL RETURN SAME THING AS GOAL TEST\n",
        "    if child[0] == True:\n",
        "        return child\n",
        "\n",
        "    # IF STATUS OF CHILD IS FALSE, IT WILL MAKE PAIRS OF CURRENT AND CHILD OF CURRENT NODES\n",
        "    pair = []\n",
        "    for node in child[1]:\n",
        "        pair.append([node,parent])\n",
        "    return pair"
      ],
      "metadata": {
        "id": "2hoj8ZftNPzl"
      },
      "execution_count": 13,
      "outputs": []
    },
    {
      "cell_type": "markdown",
      "source": [
        "#### **RECONSTRUCT PATH**"
      ],
      "metadata": {
        "id": "SfF6hVPOA4Pl"
      }
    },
    {
      "cell_type": "code",
      "source": [
        "def reconstructPath(my_path):\n",
        "    goalPath = []\n",
        "    # TAKING GOAL NODE AND ADDING IT TO PATH\n",
        "    currNode = my_path.pop()\n",
        "    goalPath.append(currNode[0])\n",
        "    # LOOP UNTIL WE GET ROOT NODE\n",
        "    while currNode[1] != None:\n",
        "        prev = []\n",
        "        # FINDING PARENT NODE OF PARENT NODE OF CURRENT NODE\n",
        "        for node in my_path:\n",
        "            if node[0] == currNode[1]:\n",
        "                prev.append(node)\n",
        "\n",
        "        # print(f'PARENT OF {currNode[1]} ARE:',prev)\n",
        "        # print('MY PATH:',my_path)\n",
        "        \n",
        "        # SETTING CURRENT NODE TO NEWLY FOUND PARENT NODE\n",
        "        currNode = prev.pop()\n",
        "        # ADDING NODE TO PATH\n",
        "        goalPath.append(currNode[0])\n",
        "\n",
        "\n",
        "    return goalPath[::-1]"
      ],
      "metadata": {
        "id": "lHQJ4lWfH9VM"
      },
      "execution_count": 14,
      "outputs": []
    },
    {
      "cell_type": "markdown",
      "source": [
        "#### **DFID**"
      ],
      "metadata": {
        "id": "inco6COAA8JO"
      }
    },
    {
      "cell_type": "code",
      "source": [
        "def dfid(G, start, goal):\n",
        "    for depth in range(G.max_depth()+1):\n",
        "        # ITERATING TILL EACH DEPTH\n",
        "        print(f'\\n\\nFOR DEPTH {depth}')\n",
        "\n",
        "        # INITIALIZATION OF OPEN AND CLOSE\n",
        "        OPEN = [[start, None]]  # WORKS AS STACK\n",
        "        CLOSE = []\n",
        "        path = []\n",
        "\n",
        "        # WHILE STACK IS NOT EMPTY\n",
        "        while (len(OPEN)!=0):\n",
        "            print('\\nOPEN',OPEN)\n",
        "            # CURRENT NODE IS SET TO LAST NODE IN OPEN\n",
        "            curr = OPEN.pop()\n",
        "            print('NOW CURRENT NODE:',curr[0])\n",
        "            # print('CURRENT NODE DEPTH:', G.get_depth(curr[0]))\n",
        "\n",
        "            # CHECKS IF DEPTH OF CURRENT IS LESS THAN SEARCHING DEPTH\n",
        "            if depth >= G.get_depth(curr[0]):\n",
        "                # print('CURRENT DEPTH:', depth)\n",
        "\n",
        "                # GETS PAIRS OF CURRENT AND CHILD NODES\n",
        "                pairs = makePair(G, curr[0], goal)\n",
        "                # print('PAIRS:', pairs)\n",
        "\n",
        "                # CHECKING IF CURRENT NODE IS END NODE\n",
        "                if pairs != []:\n",
        "                    # IF STATUS OF CURRENT NODE IS TRUE, IT MEANS WE HAVE FOUND GOAL NODE\n",
        "                    if pairs[0] == True:\n",
        "                        print('\\nREACHED GOAL NODE', pairs[1][0])\n",
        "                        CLOSE.extend(curr)\n",
        "\n",
        "                        # ADDING FINAL NODES TO PATH\n",
        "                        path.append(curr)\n",
        "                        path.append(pairs[1])\n",
        "                        print(f'\\nFOR DEPTH {depth}, PATH TO GOAL: {path}\\n')\n",
        "                        \n",
        "                        # CALLING RECONSTRUCT PATH\n",
        "                        return reconstructPath(path), (depth+1)\n",
        "\n",
        "                    # IF STATUS OF CURRENT NODE IS FALSE, IT WILL ADD NON-VISITED NODES TO STACK\n",
        "                    for pair in pairs:\n",
        "                        if pair not in CLOSE:\n",
        "                            # print('ADDING PAIR:',pair)\n",
        "                            OPEN.append(pair)\n",
        "\n",
        "                CLOSE.extend(curr)\n",
        "                path.append(curr)\n",
        "        \n",
        "        print(f'\\nTILL DEPTH {depth}, TRAVERSED PATH: {path}')"
      ],
      "metadata": {
        "id": "6vCnqkCZIuok"
      },
      "execution_count": 15,
      "outputs": []
    },
    {
      "cell_type": "markdown",
      "source": [
        "<img src='https://encrypted-tbn0.gstatic.com/images?q=tbn:ANd9GcRbyVW0aTSYRj5YFR8tTV_v3bmDWvsXqisPYw&usqp=CAU' height=325 width=500></img>"
      ],
      "metadata": {
        "id": "zsyMVL2YOMA_"
      }
    },
    {
      "cell_type": "code",
      "source": [
        "start = 'A'\n",
        "# goal = 'K'\n",
        "goal = 'J'\n",
        "\n",
        "# FOR GOAL K, EXPECTED PATH = A -> C -> G -> K\n",
        "# FOR GOAL J, EXPECTED PATH = A -> B -> F -> J\n",
        "path, depth = dfid(G, start, goal)"
      ],
      "metadata": {
        "colab": {
          "base_uri": "https://localhost:8080/"
        },
        "id": "nM0oAFM4P3hp",
        "outputId": "604ed568-575a-4f60-bc1d-88e65db03544"
      },
      "execution_count": 16,
      "outputs": [
        {
          "output_type": "stream",
          "name": "stdout",
          "text": [
            "\n",
            "\n",
            "FOR DEPTH 0\n",
            "\n",
            "OPEN [['A', None]]\n",
            "NOW CURRENT NODE: A\n",
            "\n",
            "OPEN [['B', 'A'], ['C', 'A'], ['D', 'A']]\n",
            "NOW CURRENT NODE: D\n",
            "\n",
            "OPEN [['B', 'A'], ['C', 'A']]\n",
            "NOW CURRENT NODE: C\n",
            "\n",
            "OPEN [['B', 'A']]\n",
            "NOW CURRENT NODE: B\n",
            "\n",
            "TILL DEPTH 0, TRAVERSED PATH: [['A', None]]\n",
            "\n",
            "\n",
            "FOR DEPTH 1\n",
            "\n",
            "OPEN [['A', None]]\n",
            "NOW CURRENT NODE: A\n",
            "\n",
            "OPEN [['B', 'A'], ['C', 'A'], ['D', 'A']]\n",
            "NOW CURRENT NODE: D\n",
            "\n",
            "OPEN [['B', 'A'], ['C', 'A'], ['H', 'D'], ['I', 'D']]\n",
            "NOW CURRENT NODE: I\n",
            "\n",
            "OPEN [['B', 'A'], ['C', 'A'], ['H', 'D']]\n",
            "NOW CURRENT NODE: H\n",
            "\n",
            "OPEN [['B', 'A'], ['C', 'A']]\n",
            "NOW CURRENT NODE: C\n",
            "\n",
            "OPEN [['B', 'A'], ['G', 'C']]\n",
            "NOW CURRENT NODE: G\n",
            "\n",
            "OPEN [['B', 'A']]\n",
            "NOW CURRENT NODE: B\n",
            "\n",
            "OPEN [['E', 'B'], ['F', 'B']]\n",
            "NOW CURRENT NODE: F\n",
            "\n",
            "OPEN [['E', 'B']]\n",
            "NOW CURRENT NODE: E\n",
            "\n",
            "TILL DEPTH 1, TRAVERSED PATH: [['A', None], ['D', 'A'], ['C', 'A'], ['B', 'A']]\n",
            "\n",
            "\n",
            "FOR DEPTH 2\n",
            "\n",
            "OPEN [['A', None]]\n",
            "NOW CURRENT NODE: A\n",
            "\n",
            "OPEN [['B', 'A'], ['C', 'A'], ['D', 'A']]\n",
            "NOW CURRENT NODE: D\n",
            "\n",
            "OPEN [['B', 'A'], ['C', 'A'], ['H', 'D'], ['I', 'D']]\n",
            "NOW CURRENT NODE: I\n",
            "\n",
            "OPEN [['B', 'A'], ['C', 'A'], ['H', 'D']]\n",
            "NOW CURRENT NODE: H\n",
            "\n",
            "OPEN [['B', 'A'], ['C', 'A']]\n",
            "NOW CURRENT NODE: C\n",
            "\n",
            "OPEN [['B', 'A'], ['G', 'C']]\n",
            "NOW CURRENT NODE: G\n",
            "\n",
            "OPEN [['B', 'A'], ['K', 'G']]\n",
            "NOW CURRENT NODE: K\n",
            "\n",
            "OPEN [['B', 'A']]\n",
            "NOW CURRENT NODE: B\n",
            "\n",
            "OPEN [['E', 'B'], ['F', 'B']]\n",
            "NOW CURRENT NODE: F\n",
            "\n",
            "REACHED GOAL NODE J\n",
            "\n",
            "FOR DEPTH 2, PATH TO GOAL: [['A', None], ['D', 'A'], ['I', 'D'], ['H', 'D'], ['C', 'A'], ['G', 'C'], ['B', 'A'], ['F', 'B'], ['J', 'F']]\n",
            "\n"
          ]
        }
      ]
    },
    {
      "cell_type": "markdown",
      "source": [
        "#### **FINAL PATH TO GOAL NODE**"
      ],
      "metadata": {
        "id": "vbw3Oer6Lr9P"
      }
    },
    {
      "cell_type": "code",
      "source": [
        "# FOR GOAL K, EXPECTED PATH = A -> C -> G -> K\n",
        "# FOR GOAL J, EXPECTED PATH = A -> B -> F -> J\n",
        "\n",
        "print(f'PATH FROM NODE {start} TO GOAL NODE {goal} FOUND AT DEPTH {depth}:')\n",
        "\n",
        "print(path[0], end=' ')\n",
        "for node in path[1:]:\n",
        "    print('->', node, end=' ')"
      ],
      "metadata": {
        "colab": {
          "base_uri": "https://localhost:8080/"
        },
        "id": "2lQDY8S0C7dT",
        "outputId": "3a365826-b42c-44af-8937-343a47b727e5"
      },
      "execution_count": 17,
      "outputs": [
        {
          "output_type": "stream",
          "name": "stdout",
          "text": [
            "PATH FROM NODE A TO GOAL NODE J FOUND AT DEPTH 3:\n",
            "A -> B -> F -> J "
          ]
        }
      ]
    }
  ]
}
